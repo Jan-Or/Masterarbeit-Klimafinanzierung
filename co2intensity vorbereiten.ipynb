{
 "cells": [
  {
   "cell_type": "code",
   "execution_count": 6,
   "id": "95693b04-6241-467f-9f36-dbc0382b0785",
   "metadata": {},
   "outputs": [
    {
     "name": "stdout",
     "output_type": "stream",
     "text": [
      "Datei mit Delta gespeichert als 'cco2intensitydelta.csv'.\n"
     ]
    }
   ],
   "source": [
    "import pandas as pd\n",
    "\n",
    "# CSV einlesen\n",
    "df = pd.read_csv(\"co2-intensity.csv\")\n",
    "\n",
    "# Spaltennamen sicherstellen\n",
    "df.columns = ['Entity', 'Code', 'Year', 'CO2_per_GDP']\n",
    "\n",
    "# Nur gültige ISO3-Codes behalten (nur Länder, keine Regionen etc.)\n",
    "df = df[df['Code'].str.match(r'^[A-Z]{3}$', na=False)]\n",
    "\n",
    "# Pivotieren: Zeilen = Länder, Spalten = Jahre, Werte = CO2/BIP\n",
    "df_pivot = df.pivot(index=\"Code\", columns=\"Year\", values=\"CO2_per_GDP\")\n",
    "\n",
    "# Entity-Spalte wieder hinzufügen\n",
    "df_pivot.insert(0, \"Entity\", df.drop_duplicates(\"Code\").set_index(\"Code\").loc[df_pivot.index, \"Entity\"])\n",
    "\n",
    "# Delta von 2010 zu 2022 berechnen\n",
    "df_pivot[\"δCO2/GDP\"] = df_pivot[2022] - df_pivot[2010]\n",
    "\n",
    "\n",
    "\n",
    "# Ausgabe und/oder Speichern\n",
    "df_pivot.to_csv(\"co2intensitydelta.csv\")\n",
    "print(\"Datei mit Delta gespeichert als 'cco2intensitydelta.csv'.\")\n"
   ]
  },
  {
   "cell_type": "code",
   "execution_count": null,
   "id": "225ad6a7-d306-4738-9667-580881066cd0",
   "metadata": {},
   "outputs": [],
   "source": []
  }
 ],
 "metadata": {
  "kernelspec": {
   "display_name": "Python 3 (ipykernel)",
   "language": "python",
   "name": "python3"
  },
  "language_info": {
   "codemirror_mode": {
    "name": "ipython",
    "version": 3
   },
   "file_extension": ".py",
   "mimetype": "text/x-python",
   "name": "python",
   "nbconvert_exporter": "python",
   "pygments_lexer": "ipython3",
   "version": "3.11.9"
  }
 },
 "nbformat": 4,
 "nbformat_minor": 5
}
